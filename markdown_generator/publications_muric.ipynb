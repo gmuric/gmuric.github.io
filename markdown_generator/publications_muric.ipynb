{
 "cells": [
  {
   "cell_type": "code",
   "execution_count": 1,
   "metadata": {},
   "outputs": [],
   "source": [
    "import pandas as pd"
   ]
  },
  {
   "cell_type": "code",
   "execution_count": 62,
   "metadata": {},
   "outputs": [],
   "source": [
    "df = pd.read_csv('citations.csv').sort_values(by='Year', ascending=False).fillna('')"
   ]
  },
  {
   "cell_type": "code",
   "execution_count": 67,
   "metadata": {
    "scrolled": false
   },
   "outputs": [
    {
     "name": "stdout",
     "output_type": "stream",
     "text": [
      "1. Chen E, Jiang J, Chang H, Muric G, Ferrara E [Charting the information and misinformation landscape to characterize misinfodemics on social media: COVID-19 infodemiology study at a planetary scale.](https://scholar.google.com/scholar?hl=en&as_sdt=0%2C5&q=Chen+E%2CJiang+J%2CChang+H%2CMuric+G%2CFerrara+E+Charting+the+information+and+misinformation+landscape+to+characterize+misinfodemics+on+social+media:+COVID-19+infodemiology+study+at+a+planetary+scale) Jmir Infodemiology 2022;\n",
      "2. Ko K, Burghardt K, Muric G [Enter At Your Own Risk: The Impacts of Joining a Hateful Subreddit.](https://scholar.google.com/scholar?hl=en&as_sdt=0%2C5&q=Ko+K%2CBurghardt+K%2CMuric+G+Enter+At+Your+Own+Risk:+The+Impacts+of+Joining+a+Hateful+Subreddit) 2021 IEEE 18th International Conference on Mobile Ad Hoc and Smart Systems (MASS) 2021;\n",
      "3. Muric G, Wu Y, Ferrara E [COVID-19 Vaccine Hesitancy on Social Media: Building a Public Twitter Data Set of Antivaccine Content, Vaccine Misinformation, and Conspiracies.](https://scholar.google.com/scholar?hl=en&as_sdt=0%2C5&q=Muric+G%2CWu+Y%2CFerrara+E+COVID-19+Vaccine+Hesitancy+on+Social+Media:+Building+a+Public+Twitter+Data+Set+of+Antivaccine+Content,+Vaccine+Misinformation,+and+Conspiracies) JMIR Public Health Surveill 2021;\n",
      "4. Ho-Chun Herbert Chang E [Social Bots and Social Media Manipulation in 2020: The Year in Review.](https://scholar.google.com/scholar?hl=en&as_sdt=0%2C5&q=Ho-Chun+Herbert+Chang+E+Social+Bots+and+Social+Media+Manipulation+in+2020:+The+Year+in+Review) Handbook of Computational Social Science, Volume 1: Theory, Case Studies and Ethics 2021;\n",
      "5. Schmitz M, Murić G, Burghardt K [A Python Package to Detect Anti-Vaccine Users on Twitter.](https://scholar.google.com/scholar?hl=en&as_sdt=0%2C5&q=Schmitz+M%2CMurić+G%2CBurghardt+K+A+Python+Package+to+Detect+Anti-Vaccine+Users+on+Twitter) arXiv preprint arXiv:2110.11333 2021;\n",
      "6. Nghiem H, Muric G, Morstatter F, Ferrara E [Detecting cryptocurrency pump-and-dump frauds using market and social signals.](https://scholar.google.com/scholar?hl=en&as_sdt=0%2C5&q=Nghiem+H%2CMuric+G%2CMorstatter+F%2CFerrara+E+Detecting+cryptocurrency+pump-and-dump+frauds+using+market+and+social+signals) Expert Systems with Applications 2021;\n",
      "7. Muric G, Lerman K, Ferrara E [Gender Disparity in the Authorship of Biomedical Research Publications During the COVID-19 Pandemic: Retrospective Observational Study.](https://scholar.google.com/scholar?hl=en&as_sdt=0%2C5&q=Muric+G%2CLerman+K%2CFerrara+E+Gender+Disparity+in+the+Authorship+of+Biomedical+Research+Publications+During+the+COVID-19+Pandemic:+Retrospective+Observational+Study) Journal of Medical Internet Research 2021;\n",
      "8. Heimann M, Murić G, Ferrara E [Structural Node Embedding in Signed Social Networks: Finding Online Misbehavior at Multiple Scales.](https://scholar.google.com/scholar?hl=en&as_sdt=0%2C5&q=Heimann+M%2CMurić+G%2CFerrara+E+Structural+Node+Embedding+in+Signed+Social+Networks:+Finding+Online+Misbehavior+at+Multiple+Scales) Complex Networks & Their Applications IX 2021;\n",
      "9. Ferrara E, Chang H, Chen E, Muric G, Patel J [Characterizing social media manipulation in the 2020 U.S. presidential election.](https://scholar.google.com/scholar?hl=en&as_sdt=0%2C5&q=Ferrara+E%2CChang+H%2CChen+E%2CMuric+G%2CPatel+J+Characterizing+social+media+manipulation+in+the+2020+U.S.+presidential+election) First Monday 2020;\n",
      "10. Ross C, Gupta A, Mehrabi N, Muric G, Lerman K [The Leaky Pipeline in Physics Publishing.](https://scholar.google.com/scholar?hl=en&as_sdt=0%2C5&q=Ross+C%2CGupta+A%2CMehrabi+N%2CMuric+G%2CLerman+K+The+Leaky+Pipeline+in+Physics+Publishing) arXiv preprint arXiv:2010.08912 2020;\n",
      "11. Murić G, Tregubov A, Blythe J, Abeliuk A, Choudhary D, Lerman K, Ferrara E [Massive Cross-Platform Simulations of Online Social Networks.](https://scholar.google.com/scholar?hl=en&as_sdt=0%2C5&q=Murić+G%2CTregubov+A%2CBlythe+J%2CAbeliuk+A%2CChoudhary+D%2CLerman+K%2CFerrara+E+Massive+Cross-Platform+Simulations+of+Online+Social+Networks) Proceedings of the 19th International Conference on Autonomous Agents ant Multi-Agent systems 2020;\n",
      "12. Ozer M, Sapienza A, Abeliuk A, Muric G, Ferrara E [Discovering patterns of online popularity from time series.](https://scholar.google.com/scholar?hl=en&as_sdt=0%2C5&q=Ozer+M%2CSapienza+A%2CAbeliuk+A%2CMuric+G%2CFerrara+E+Discovering+patterns+of+online+popularity+from+time+series) Expert Systems with Applications 2020;\n",
      "13. Murić G, Abeliuk A, Lerman K, Ferrara E [Collaboration drives individual productivity.](https://scholar.google.com/scholar?hl=en&as_sdt=0%2C5&q=Murić+G%2CAbeliuk+A%2CLerman+K%2CFerrara+E+Collaboration+drives+individual+productivity) Proceedings of the ACM on Human-Computer Interaction 2019;\n",
      "14. Blythe J, Ferrara E, Huang D, Lerman K, Muric G, Sapienza A, Tregubov A, Pacheco D, Bollenbacher J, Flammini A [The darpa socialsim challenge: massive multi-agent simulations of the github ecosystem.](https://scholar.google.com/scholar?hl=en&as_sdt=0%2C5&q=Blythe+J%2CFerrara+E%2CHuang+D%2CLerman+K%2CMuric+G%2CSapienza+A%2CTregubov+A%2CPacheco+D%2CBollenbacher+J%2CFlammini+A+The+darpa+socialsim+challenge:+massive+multi-agent+simulations+of+the+github+ecosystem) Proceedings of the 18th International Conference on Autonomous Agents and MultiAgent Systems 2019;\n",
      "15. Blythe J, Bollenbacher J, Huang D, Hui P, Krohn R, Pacheco D, Muric G, Sapienza A, Tregubov A, Ahn Y [Massive multi-agent data-driven simulations of the github ecosystem.](https://scholar.google.com/scholar?hl=en&as_sdt=0%2C5&q=Blythe+J%2CBollenbacher+J%2CHuang+D%2CHui+P%2CKrohn+R%2CPacheco+D%2CMuric+G%2CSapienza+A%2CTregubov+A%2CAhn+Y+Massive+multi-agent+data-driven+simulations+of+the+github+ecosystem) International Conference on Practical Applications of Agents and Multi-Agent Systems 2019;\n",
      "16. Murić G [Resilience of the Critical Communication Networks Against Spreading Failures: Case of the European National and Research Networks.](https://scholar.google.com/scholar?hl=en&as_sdt=0%2C5&q=Murić+G+Resilience+of+the+Critical+Communication+Networks+Against+Spreading+Failures:+Case+of+the+European+National+and+Research+Networks)  2017;\n",
      "17. Murić G, Jorswieck E, Scheunert C [Using LTI dynamics to identify the influential nodes in a network.](https://scholar.google.com/scholar?hl=en&as_sdt=0%2C5&q=Murić+G%2CJorswieck+E%2CScheunert+C+Using+LTI+dynamics+to+identify+the+influential+nodes+in+a+network) Plos one 2016;\n",
      "18. Murić G, Scheunert C, Jorswieck E [On modeling epidemics in networks using linear time-invariant dynamics.](https://scholar.google.com/scholar?hl=en&as_sdt=0%2C5&q=Murić+G%2CScheunert+C%2CJorswieck+E+On+modeling+epidemics+in+networks+using+linear+time-invariant+dynamics) 2015 IEEE 11th International Conference on Wireless and Mobile Computing, Networking and Communications (WiMob) 2015;\n",
      "19. Murić G, Bogojević D, Gospić N [Interdependencies of communication and electrical infrastructures.](https://scholar.google.com/scholar?hl=en&as_sdt=0%2C5&q=Murić+G%2CBogojević+D%2CGospić+N+Interdependencies+of+communication+and+electrical+infrastructures) ICIST 2014 - 4th International Conference on Information Society and Technology 2014;\n",
      "20. RADA P [ISTRAŽIVANJE O ULOZI ZNANJA IZ OBLASTI IKT I.](https://scholar.google.com/scholar?hl=en&as_sdt=0%2C5&q=RADA+P+ISTRAŽIVANJE+O+ULOZI+ZNANJA+IZ+OBLASTI+IKT+I)  2014;\n",
      "21. Murić G, Macura D, Gospić N, Bogojević D [An Approach to Critical Information Infrastructure Protection.](https://scholar.google.com/scholar?hl=en&as_sdt=0%2C5&q=Murić+G%2CMacura+D%2CGospić+N%2CBogojević+D+An+Approach+to+Critical+Information+Infrastructure+Protection) Business Information Security Conference BISEC 2013 2013;\n",
      "22. Samcovic A, Muric G [Application of Digital Watermarking Technique in Protection of Property on Images.](https://scholar.google.com/scholar?hl=en&as_sdt=0%2C5&q=Samcovic+A%2CMuric+G+Application+of+Digital+Watermarking+Technique+in+Protection+of+Property+on+Images) Business Information Security Conference BISEC 2013 2013;\n",
      "23. Murić G, Gospić N, Šelmić M [Protecting Critical Information Infrastructures by Increasing its Resilience.](https://scholar.google.com/scholar?hl=en&as_sdt=0%2C5&q=Murić+G%2CGospić+N%2CŠelmić+M+Protecting+Critical+Information+Infrastructures+by+Increasing+its+Resilience) International conference on Applied Internet and Information Technologies 2013;\n",
      "24. Murić G, Gospić N, Bogojević D [Proposal for possible approach for Critical Information Infrastructure protection in Serbia.](https://scholar.google.com/scholar?hl=en&as_sdt=0%2C5&q=Murić+G%2CGospić+N%2CBogojević+D+Proposal+for+possible+approach+for+Critical+Information+Infrastructure+protection+in+Serbia) 3rd International Conference on Information Society Technology and Management 2013;\n",
      "25. Gospić N, Murić G, Bogojević D [The Method for Importance of Elements Assessment Within the Interdependent Infrastructures.](https://scholar.google.com/scholar?hl=en&as_sdt=0%2C5&q=Gospić+N%2CMurić+G%2CBogojević+D+The+Method+for+Importance+of+Elements+Assessment+Within+the+Interdependent+Infrastructures) The Symposium on Novel Technologies in Postal and Telecommunication Traffic, PosTel 2013;\n",
      "26. Murić G, Macura D, Gospić N, Bogojević D [An approach to assess criticality of elements in the process of information infrastructure protection.](https://scholar.google.com/scholar?hl=en&as_sdt=0%2C5&q=Murić+G%2CMacura+D%2CGospić+N%2CBogojević+D+An+approach+to+assess+criticality+of+elements+in+the+process+of+information+infrastructure+protection) Telecommunication in Modern Satellite, Cable and Broadcasting Services (TELSIKS), 2013 11th International Conference on 2013;\n",
      "27. Gospić N, Murić G, Bogojević D [Managing critical infrastructure for sustainable development in the telecommunications sector in the Republic of Serbia.](https://scholar.google.com/scholar?hl=en&as_sdt=0%2C5&q=Gospić+N%2CMurić+G%2CBogojević+D+Managing+critical+infrastructure+for+sustainable+development+in+the+telecommunications+sector+in+the+Republic+of+Serbia) E-society Journal 2012;\n",
      "28. Murić G, Krsmanović M [ORSA - Organizing Software Application.](https://scholar.google.com/scholar?hl=en&as_sdt=0%2C5&q=Murić+G%2CKrsmanović+M+ORSA+-+Organizing+Software+Application) AIIT - International Conference on Applied Internet and Information Technologies 2012;\n",
      "29. Bogojevic D, Gospic N, Muric G [Broadband universal service and access: trends and models.](https://scholar.google.com/scholar?hl=en&as_sdt=0%2C5&q=Bogojevic+D%2CGospic+N%2CMuric+G+Broadband+universal+service+and+access:+trends+and+models) 2012 20th Telecommunications Forum (TELFOR) 2012;\n",
      "30. Gospić N, Murić G, Bogojević D [Defining of Critical Telecommunication Infrastructure in Serbia.](https://scholar.google.com/scholar?hl=en&as_sdt=0%2C5&q=Gospić+N%2CMurić+G%2CBogojević+D+Defining+of+Critical+Telecommunication+Infrastructure+in+Serbia) The Symposium on Novel Technologies in Postal and Telecommunication Traffic, PosTel 2012 2012;\n",
      "31. Krsmanović M, Murić G, Gospić N [Improvement of children safety by using RFID based service.](https://scholar.google.com/scholar?hl=en&as_sdt=0%2C5&q=Krsmanović+M%2CMurić+G%2CGospić+N+Improvement+of+children+safety+by+using+RFID+based+service) 19thTelecommunications Forum (TELFOR) Proceedings of Papers 2011;\n"
     ]
    }
   ],
   "source": [
    "i = 1\n",
    "for index, row in df.iterrows():\n",
    "    if 'Supplementary' not in row['Title']:\n",
    "        authors = row['Authors'].split(';')\n",
    "        authors = [a.strip() for a in authors if a!=' ']\n",
    "        auths = ''\n",
    "        for a in authors:\n",
    "            a1 = a.split(',')[0]\n",
    "            a2 = a.split(',')[1]\n",
    "            auths = auths + a1 + ' ' + a2[1] + ', '\n",
    "        auths = auths[:-2]\n",
    "\n",
    "        gscholar_link = 'https://scholar.google.com/scholar?hl=en&as_sdt=0%2C5&q='\n",
    "\n",
    "        title = row['Title']\n",
    "        s = (gscholar_link+auths.replace(', ','%2C')+ '+' + title).replace(' ','+')\n",
    "        print(str(i) + '. ' + auths + ' ' + '[' + title + '.](' + s + ')' + ' ' + row['Publication'] + ' ' + str(int(row['Year'])) + ';')\n",
    "        #print(str(i) + '. ' + auths + ' ' + '[' + title + '.](' + s + ')' + ' ' + row['Publication'] + ' ' + str(row['Year']) + ';' + str(row['Volume'])\n",
    "\n",
    "\n",
    "        i+=1\n"
   ]
  }
 ],
 "metadata": {
  "kernelspec": {
   "display_name": "Python 3",
   "language": "python",
   "name": "python3"
  },
  "language_info": {
   "codemirror_mode": {
    "name": "ipython",
    "version": 3
   },
   "file_extension": ".py",
   "mimetype": "text/x-python",
   "name": "python",
   "nbconvert_exporter": "python",
   "pygments_lexer": "ipython3",
   "version": "3.7.3"
  }
 },
 "nbformat": 4,
 "nbformat_minor": 2
}
